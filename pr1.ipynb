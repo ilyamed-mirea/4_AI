{
 "cells": [
  {
   "cell_type": "markdown",
   "source": [
    "# Задача 1"
   ],
   "metadata": {
    "collapsed": false
   }
  },
  {
   "cell_type": "markdown",
   "source": [
    "Типы данных:\n",
    "Все типы данных в Python относятся к одной из 2-х категорий:\n",
    "изменяемые (mutable) и неизменяемые (immutable).\n",
    "Неизменяемые объекты:\n",
    "— числовые данные (int, float),\n",
    "— bool,\n",
    "— None,\n",
    "— символьные строки (class 'str'),\n",
    "— кортежи (tuple).\n",
    "Изменяемые объекты:\n",
    "— списки (list),\n",
    "— множества (set),\n",
    "— словари (dict)."
   ],
   "metadata": {
    "collapsed": false
   }
  },
  {
   "cell_type": "markdown",
   "source": [
    "## 1.2 Пример"
   ],
   "metadata": {
    "collapsed": false
   }
  },
  {
   "cell_type": "code",
   "execution_count": 1,
   "outputs": [
    {
     "name": "stdout",
     "output_type": "stream",
     "text": [
      "39.4 | <class 'float'> \n",
      " None | <class 'NoneType'> \n",
      " ('a', 5, 12.345, (2, 'b')) | <class 'tuple'> \n",
      " [['Антонова Антонина', 34, 'Ж'], [['Борисов Борис', 26, 'М']]] | <class 'list'> \n",
      " {1, 2, 'title', 'content'} | <class 'set'> \n",
      "\n"
     ]
    }
   ],
   "source": [
    "import math\n",
    "\n",
    "x = 3 + 5.2 * 7\n",
    "y = None\n",
    "z = 'a', 5, 12.345, (2, 'b')\n",
    "df = [['Антонова Антонина', 34, 'Ж'], [['Борисов Борис', 26, 'М']]]\n",
    "A = {1, 'title', 2, 'content'}\n",
    "print(x, '|', type(x), '\\n', y, '|', type(y), '\\n', z, '|', type(z), '\\n', df,\n",
    "      '|', type(df), '\\n', A, '|', type(A), '\\n')"
   ],
   "metadata": {
    "collapsed": false
   }
  },
  {
   "cell_type": "markdown",
   "source": [
    "## 1.3 Задание"
   ],
   "metadata": {
    "collapsed": false
   }
  },
  {
   "cell_type": "code",
   "execution_count": 2,
   "outputs": [
    {
     "name": "stdout",
     "output_type": "stream",
     "text": [
      "True | <class 'bool'> \n",
      " {8, 1, 3, 7} | <class 'set'> \n",
      " {2, 'apple', 4, 5, 10} | <class 'set'> \n",
      " set() | <class 'set'> \n",
      " ('Антонова Антонина', 34, 'Ж') | <class 'tuple'> \n",
      " type | <class 'str'> \n",
      " [1, 'title', 2, 'content'] | <class 'list'> \n",
      "\n"
     ]
    }
   ],
   "source": [
    "x = 5 >= 2\n",
    "A = {1, 3, 7, 8}\n",
    "B = {2, 4, 5, 10, 'apple'}\n",
    "C = A & B\n",
    "df = 'Антонова Антонина', 34, 'Ж'\n",
    "z = 'type'\n",
    "D = [1, 'title', 2, 'content']\n",
    "print(x, '|', type(x), '\\n', A, '|', type(A), '\\n', B, '|', type(B), '\\n', C,\n",
    "      '|', type(C), '\\n', df, '|', type(df), '\\n', z, '|', type(z), '\\n', D,\n",
    "      '|', type(D), '\\n', )"
   ],
   "metadata": {
    "collapsed": false
   }
  },
  {
   "cell_type": "markdown",
   "source": [
    "# Задача 2"
   ],
   "metadata": {
    "collapsed": false
   }
  },
  {
   "cell_type": "markdown",
   "source": [
    "If – Условный оператор\n",
    "В коде часто приходится проверять выполнимость или\n",
    "невыполнимость каких-то условий. Синтаксис:\n",
    "if <условие1 (булевское выражение)> :\n",
    " <код, который выполнится, если условие верно>\n",
    "elif <условие2 (булевское выражение)>:\n",
    " <код, который выполнится, если условие1 было неверно, а\n",
    "условие2 верно>\n",
    "else:\n",
    " <код, который выполнится, если условие1 и условие2 были\n",
    "неверны>\n",
    "Обратите внимание, что код, который должен выполняться внутри\n",
    "каждого условия, записывается с отступом в 4 пробела от уровня if, elif и\n",
    "else: в питоне области видимости переменных обозначаются отступами.\n",
    "То есть, отступы позволяют понять, где начинается код,\n",
    "который должен выполняться при выполнении условия в if, и где\n",
    "заканчивается."
   ],
   "metadata": {
    "collapsed": false
   }
  },
  {
   "cell_type": "markdown",
   "source": [
    "## 2.2 Пример"
   ],
   "metadata": {
    "collapsed": false
   }
  },
  {
   "cell_type": "code",
   "execution_count": 3,
   "outputs": [
    {
     "name": "stdout",
     "output_type": "stream",
     "text": [
      "x больше 0\n"
     ]
    }
   ],
   "source": [
    "x = 125\n",
    "if x < 0:\n",
    "    print('x меньше 0')\n",
    "elif x == 0:\n",
    "    print('x равен 0')\n",
    "else:\n",
    "    print('x больше 0')"
   ],
   "metadata": {
    "collapsed": false
   }
  },
  {
   "cell_type": "markdown",
   "source": [
    "## 2.3 Задание"
   ],
   "metadata": {
    "collapsed": false
   }
  },
  {
   "cell_type": "code",
   "execution_count": 4,
   "outputs": [
    {
     "name": "stdout",
     "output_type": "stream",
     "text": [
      "x меньше -5\n"
     ]
    }
   ],
   "source": [
    "x = -125\n",
    "if x < -5:\n",
    "    print('x меньше -5')\n",
    "elif -5 <= x <= 5:\n",
    "    print('x находится от -5 до 5')\n",
    "else:\n",
    "    print('x больше 5')"
   ],
   "metadata": {
    "collapsed": false
   }
  },
  {
   "cell_type": "markdown",
   "source": [
    "# Задача 3"
   ],
   "metadata": {
    "collapsed": false
   }
  },
  {
   "cell_type": "markdown",
   "source": [
    "Циклы - for и while\n",
    "Цикл while проверяет истинность условия, и если условие истинно, то\n",
    "выполняет инструкции цикла.\n",
    "Синтаксис:\n",
    "while условие:\n",
    " инструкции\n",
    "Инструкции, которые относятся к циклу while, располагаются на\n",
    "последующих строках и должны иметь отступ от начала ключевого слова\n",
    "while.\n",
    "Цикл for проходит по набору значений, помещает каждое значение в\n",
    "переменную с которой в цикле можно производить различные действия.\n",
    "Синтаксис:\n",
    "for переменная in набор_значений:\n",
    " инструкции\n",
    "После ключевого слова for идет название переменной, в которую\n",
    "будут помещаться значения. После оператора in указывается набор значений\n",
    "и двоеточие. Инструкции, которые относятся к циклу, располагаются на\n",
    "последующих строках и должны иметь отступ.\n",
    "При создании цикла удобно пользоваться функцией range(a, b),\n",
    "которая создает последовательность чисел от a до b-1."
   ],
   "metadata": {
    "collapsed": false
   }
  },
  {
   "cell_type": "markdown",
   "source": [
    "## 3.2.1 Пример"
   ],
   "metadata": {
    "collapsed": false
   }
  },
  {
   "cell_type": "code",
   "execution_count": 5,
   "outputs": [
    {
     "name": "stdout",
     "output_type": "stream",
     "text": [
      "1\n",
      "4\n",
      "7\n",
      "10\n"
     ]
    }
   ],
   "source": [
    "x = 1\n",
    "while x <= 10:\n",
    "    print(x)\n",
    "    x += 3"
   ],
   "metadata": {
    "collapsed": false
   }
  },
  {
   "cell_type": "markdown",
   "source": [
    "## 3.2.2 Пример"
   ],
   "metadata": {
    "collapsed": false
   }
  },
  {
   "cell_type": "code",
   "execution_count": 6,
   "outputs": [
    {
     "name": "stdout",
     "output_type": "stream",
     "text": [
      "KNN\n",
      "decision tree\n",
      "linear model\n"
     ]
    }
   ],
   "source": [
    "models = ['KNN', 'decision tree', 'linear model']\n",
    "for model in models:\n",
    "    print(model)"
   ],
   "metadata": {
    "collapsed": false
   }
  },
  {
   "cell_type": "markdown",
   "source": [
    "## 3.2.3 Пример"
   ],
   "metadata": {
    "collapsed": false
   }
  },
  {
   "cell_type": "code",
   "execution_count": 7,
   "outputs": [
    {
     "name": "stdout",
     "output_type": "stream",
     "text": [
      "[1, 8, 15, 22, 29, 36, 43, 50, 57, 64, 71, 78, 85, 92, 99]\n"
     ]
    }
   ],
   "source": [
    "list_int = range(1, 100, 7)\n",
    "print(list(list_int))"
   ],
   "metadata": {
    "collapsed": false
   }
  },
  {
   "cell_type": "markdown",
   "source": [
    "## 3.2.4 Пример"
   ],
   "metadata": {
    "collapsed": false
   }
  },
  {
   "cell_type": "code",
   "execution_count": 8,
   "outputs": [
    {
     "name": "stdout",
     "output_type": "stream",
     "text": [
      "5\n",
      "30\n",
      "55\n",
      "80\n",
      "105\n"
     ]
    }
   ],
   "source": [
    "for i in range(5, 106, 25):\n",
    "    print(i)"
   ],
   "metadata": {
    "collapsed": false
   }
  },
  {
   "cell_type": "markdown",
   "source": [
    "## 3.2.5 Пример"
   ],
   "metadata": {
    "collapsed": false
   }
  },
  {
   "cell_type": "code",
   "execution_count": 9,
   "outputs": [
    {
     "name": "stdout",
     "output_type": "stream",
     "text": [
      "[2, 4, 6]\n",
      "[9, 8, 7, 6, 5, 4, 3, 2, 1]\n"
     ]
    }
   ],
   "source": [
    "a = [1, 2, 3, 4, 5, 6, 7, 8, 9]\n",
    "b = a[1:7:2]\n",
    "c = a[::-1]\n",
    "print(b)\n",
    "print(c)"
   ],
   "metadata": {
    "collapsed": false
   }
  },
  {
   "cell_type": "markdown",
   "source": [
    "## 3.3.1 Задание"
   ],
   "metadata": {
    "collapsed": false
   }
  },
  {
   "cell_type": "code",
   "execution_count": 10,
   "outputs": [
    {
     "name": "stdout",
     "output_type": "stream",
     "text": [
      "10\n",
      "7\n",
      "4\n",
      "1\n"
     ]
    }
   ],
   "source": [
    "x = 10\n",
    "while x >= 1:\n",
    "    print(x)\n",
    "    x -= 3"
   ],
   "metadata": {
    "collapsed": false
   }
  },
  {
   "cell_type": "markdown",
   "source": [
    "## 3.3.2 Задание"
   ],
   "metadata": {
    "collapsed": false
   }
  },
  {
   "cell_type": "code",
   "execution_count": 11,
   "outputs": [
    {
     "name": "stdout",
     "output_type": "stream",
     "text": [
      "kindness\n",
      "happiness\n",
      "tall\n"
     ]
    }
   ],
   "source": [
    "human = ['kindness', 'happiness', 'tall']\n",
    "for part in human:\n",
    "    print(part)"
   ],
   "metadata": {
    "collapsed": false
   }
  },
  {
   "cell_type": "markdown",
   "source": [
    "## 3.3.3 Задание"
   ],
   "metadata": {
    "collapsed": false
   }
  },
  {
   "cell_type": "code",
   "execution_count": 12,
   "outputs": [
    {
     "name": "stdout",
     "output_type": "stream",
     "text": [
      "[2, 3, 4, 5, 6, 7, 8, 9, 10, 11, 12, 13, 14, 15]\n"
     ]
    }
   ],
   "source": [
    "list_int = range(2, 16, 1)\n",
    "print(list(list_int))"
   ],
   "metadata": {
    "collapsed": false
   }
  },
  {
   "cell_type": "markdown",
   "source": [
    "## 3.3.4 Задание"
   ],
   "metadata": {
    "collapsed": false
   }
  },
  {
   "cell_type": "code",
   "execution_count": 13,
   "outputs": [
    {
     "name": "stdout",
     "output_type": "stream",
     "text": [
      "105\n",
      "80\n",
      "55\n",
      "30\n",
      "5\n"
     ]
    }
   ],
   "source": [
    "for i in range(105, 4, -25):\n",
    "    print(i)"
   ],
   "metadata": {
    "collapsed": false
   }
  },
  {
   "cell_type": "markdown",
   "source": [
    "## 3.3.5 Задание"
   ],
   "metadata": {
    "collapsed": false
   }
  },
  {
   "cell_type": "code",
   "execution_count": 14,
   "outputs": [
    {
     "name": "stdout",
     "output_type": "stream",
     "text": [
      "[8, 1, 6, 3, 4, 5, 2, 7, 0, 9]\n"
     ]
    }
   ],
   "source": [
    "a = [0, 1, 2, 3, 4, 5, 6, 7, 8, 9]\n",
    "b = a[-2::-2]\n",
    "c = a[1::2]\n",
    "res = []\n",
    "for i in range(0, len(b)):\n",
    "    res.append(b[i])\n",
    "    res.append(c[i])\n",
    "print(res)"
   ],
   "metadata": {
    "collapsed": false
   }
  },
  {
   "cell_type": "markdown",
   "source": [
    "# Задача 4"
   ],
   "metadata": {
    "collapsed": false
   }
  },
  {
   "cell_type": "markdown",
   "source": [
    "Машинное обучение опирается на фундаментальные понятия и законы\n",
    "математики и информатики. Библиотека математических функций (math)\n",
    "применяется при решении большинства прикладных задач анализа данных.\n",
    "Также, и некоторые другие библиотеки Python содержат математические\n",
    "функции (например, NumPy). Важную роль играет библиотека matplotlib,\n",
    "которая позволяет производить визуализацию расчетов в удобной для\n",
    "восприятия человеком форме: графики, диаграммы, гистограммы.\n",
    "Подключение библиотек – синтаксис:\n",
    "import math as m\n",
    "import numpy as np\n",
    "import matplotlib.pyplot as plt\n",
    "etc…\n",
    "Библиотеки в python содержат не только функции, позволяющие решать\n",
    "различные задачи, но и некоторые популярные константы, например число\n",
    "Эйлера."
   ],
   "metadata": {
    "collapsed": false
   }
  },
  {
   "cell_type": "markdown",
   "source": [
    "## 4.2.1 Пример"
   ],
   "metadata": {
    "collapsed": false
   }
  },
  {
   "cell_type": "code",
   "execution_count": 15,
   "outputs": [
    {
     "name": "stdout",
     "output_type": "stream",
     "text": [
      "0.41078129050290885\n"
     ]
    }
   ],
   "source": [
    "import math as m\n",
    "\n",
    "print(m.sin(m.e))"
   ],
   "metadata": {
    "collapsed": false
   }
  },
  {
   "cell_type": "markdown",
   "source": [
    "## 4.2.2 Пример"
   ],
   "metadata": {
    "collapsed": false
   }
  },
  {
   "cell_type": "code",
   "execution_count": 1,
   "outputs": [
    {
     "name": "stdout",
     "output_type": "stream",
     "text": [
      "73.50792907748662\n"
     ]
    },
    {
     "data": {
      "text/plain": "<Figure size 640x480 with 1 Axes>",
      "image/png": "[encoded data removed]"
     },
     "metadata": {},
     "output_type": "display_data"
    }
   ],
   "source": [
    "import numpy as np\n",
    "import matplotlib.pyplot as plt\n",
    "from numpy import trapz\n",
    "\n",
    "x = np.arange(0.0, 10, 0.1)\n",
    "y = np.abs(np.sin(x * np.exp(np.cos(x))))\n",
    "plt.grid()\n",
    "plt.plot(x, y, c=\"r\")\n",
    "plt.fill_between(x, y)\n",
    "area = trapz(y)\n",
    "print(area)"
   ],
   "metadata": {
    "collapsed": false
   }
  },
  {
   "cell_type": "markdown",
   "source": [
    "## 4.2.3 Пример"
   ],
   "metadata": {
    "collapsed": false
   }
  },
  {
   "cell_type": "code",
   "execution_count": 18,
   "outputs": [
    {
     "ename": "ModuleNotFoundError",
     "evalue": "No module named 'matplotlib'",
     "output_type": "error",
     "traceback": [
      "\u001B[1;31m---------------------------------------------------------------------------\u001B[0m",
      "\u001B[1;31mModuleNotFoundError\u001B[0m                       Traceback (most recent call last)",
      "Cell \u001B[1;32mIn[18], line 1\u001B[0m\n\u001B[1;32m----> 1\u001B[0m \u001B[38;5;28;01mfrom\u001B[39;00m \u001B[38;5;21;01mmatplotlib\u001B[39;00m \u001B[38;5;28;01mimport\u001B[39;00m pyplot \u001B[38;5;28;01mas\u001B[39;00m plt\n\u001B[0;32m      2\u001B[0m \u001B[38;5;28;01mimport\u001B[39;00m \u001B[38;5;21;01mnumpy\u001B[39;00m \u001B[38;5;28;01mas\u001B[39;00m \u001B[38;5;21;01mnp\u001B[39;00m\n\u001B[0;32m      4\u001B[0m marks \u001B[38;5;241m=\u001B[39m [\u001B[38;5;124m'\u001B[39m\u001B[38;5;124mНеуд\u001B[39m\u001B[38;5;124m'\u001B[39m, \u001B[38;5;124m'\u001B[39m\u001B[38;5;124mУдовл\u001B[39m\u001B[38;5;124m'\u001B[39m, \u001B[38;5;124m'\u001B[39m\u001B[38;5;124mХор\u001B[39m\u001B[38;5;124m'\u001B[39m, \u001B[38;5;124m'\u001B[39m\u001B[38;5;124mОтл\u001B[39m\u001B[38;5;124m'\u001B[39m]\n",
      "\u001B[1;31mModuleNotFoundError\u001B[0m: No module named 'matplotlib'"
     ]
    }
   ],
   "source": [
    "from matplotlib import pyplot as plt\n",
    "import numpy as np\n",
    "\n",
    "marks = ['Неуд', 'Удовл', 'Хор', 'Отл']\n",
    "\n",
    "data = [3, 7, 8, 4]\n",
    "fig = plt.figure(figsize=(10, 7))\n",
    "plt.pie(data, labels=marks)\n",
    "plt.show()\n",
    "plt.grid()\n",
    "plt.scatter(marks, data)"
   ],
   "metadata": {
    "collapsed": false
   }
  },
  {
   "cell_type": "markdown",
   "source": [
    "## 4.3.1 Задание"
   ],
   "metadata": {
    "collapsed": false
   }
  },
  {
   "cell_type": "code",
   "execution_count": 19,
   "outputs": [
    {
     "ename": "ModuleNotFoundError",
     "evalue": "No module named 'numpy'",
     "output_type": "error",
     "traceback": [
      "\u001B[1;31m---------------------------------------------------------------------------\u001B[0m",
      "\u001B[1;31mModuleNotFoundError\u001B[0m                       Traceback (most recent call last)",
      "Cell \u001B[1;32mIn[19], line 2\u001B[0m\n\u001B[0;32m      1\u001B[0m \u001B[38;5;28;01mimport\u001B[39;00m \u001B[38;5;21;01mrandom\u001B[39;00m\n\u001B[1;32m----> 2\u001B[0m \u001B[38;5;28;01mimport\u001B[39;00m \u001B[38;5;21;01mnumpy\u001B[39;00m \u001B[38;5;28;01mas\u001B[39;00m \u001B[38;5;21;01mnp\u001B[39;00m\n\u001B[0;32m      3\u001B[0m \u001B[38;5;28;01mimport\u001B[39;00m \u001B[38;5;21;01mmatplotlib\u001B[39;00m\u001B[38;5;21;01m.\u001B[39;00m\u001B[38;5;21;01mpyplot\u001B[39;00m \u001B[38;5;28;01mas\u001B[39;00m \u001B[38;5;21;01mplt\u001B[39;00m\n\u001B[0;32m      5\u001B[0m arr \u001B[38;5;241m=\u001B[39m [random\u001B[38;5;241m.\u001B[39mrandom() \u001B[38;5;28;01mfor\u001B[39;00m _ \u001B[38;5;129;01min\u001B[39;00m \u001B[38;5;28mrange\u001B[39m(\u001B[38;5;241m10\u001B[39m)]\n",
      "\u001B[1;31mModuleNotFoundError\u001B[0m: No module named 'numpy'"
     ]
    }
   ],
   "source": [
    "import random\n",
    "import numpy as np\n",
    "import matplotlib.pyplot as plt\n",
    "\n",
    "arr = [random.random() for _ in range(10)]\n",
    "sum = 0.0\n",
    "for number in arr:\n",
    "    sum += number\n",
    "mediana = np.median(arr)\n",
    "srzn = sum / 10\n",
    "print(f'sr znach: {srzn}\\n',\n",
    "      f'Median value: {mediana}')\n",
    "\n",
    "plt.show()\n",
    "plt.grid()\n",
    "plt.xlabel('Index')\n",
    "plt.ylabel('Value')\n",
    "plt.scatter(np.arange(0, 1, 0.1), arr)"
   ],
   "metadata": {
    "collapsed": false
   }
  },
  {
   "cell_type": "markdown",
   "source": [
    "## 4.3.2 Задание"
   ],
   "metadata": {
    "collapsed": false
   }
  },
  {
   "cell_type": "code",
   "execution_count": null,
   "outputs": [],
   "source": [
    "import math\n",
    "import numpy as np\n",
    "\n",
    "\n",
    "def f(x):\n",
    "    top = math.sqrt(\n",
    "        1 + math.pow(math.e, math.sqrt(x)) + math.pow(math.cos(x), 2))\n",
    "    bottom = math.fabs(1 - math.pow(math.sin(x), 3))\n",
    "    return (top / bottom) + (math.log(math.fabs(2 * x), math.e))\n",
    "\n",
    "\n",
    "res = []\n",
    "for i in range(1, 11):\n",
    "    res.append(f(i))\n",
    "half = res[:5]\n",
    "\n",
    "# Main linear\n",
    "plt.plot(np.arange(1, 11), res, '-', label='Main')\n",
    "plt.xlabel('x')\n",
    "plt.ylabel('f(x)')\n",
    "plt.legend()\n",
    "plt.grid()\n",
    "plt.show()\n",
    "\n",
    "# Slice dotted\n",
    "plt.plot(np.arange(1, 6), half, 'o', label='Slice')\n",
    "plt.xlabel('x')\n",
    "plt.ylabel('f(x)')\n",
    "plt.legend()\n",
    "plt.grid()\n",
    "plt.show()"
   ],
   "metadata": {
    "collapsed": false
   }
  },
  {
   "cell_type": "markdown",
   "source": [
    "## 4.3.3 Задание"
   ],
   "metadata": {
    "collapsed": false
   }
  },
  {
   "cell_type": "code",
   "execution_count": null,
   "outputs": [],
   "source": [
    "import numpy as np\n",
    "from scipy.integrate import simps\n",
    "from numpy import trapz\n",
    "\n",
    "\n",
    "def f(x):\n",
    "    return np.abs(np.cos(x * np.power(np.cos(x) + np.log(x + 1), np.e)))\n",
    "\n",
    "\n",
    "res = []\n",
    "for i in range(0, 11):\n",
    "    res.append(f(i))\n",
    "\n",
    "x = np.arange(0, 11, 1)\n",
    "plt.grid()\n",
    "plt.plot(x, res, c='y')\n",
    "plt.fill_between(x, res)\n",
    "plt.xlabel('x')\n",
    "plt.ylabel('f(x)')\n",
    "area = trapz(res)\n",
    "print(area)"
   ],
   "metadata": {
    "collapsed": false
   }
  },
  {
   "cell_type": "markdown",
   "source": [
    "## 4.3.4 Задание"
   ],
   "metadata": {
    "collapsed": false
   }
  },
  {
   "cell_type": "code",
   "execution_count": null,
   "outputs": [],
   "source": [
    "import yfinance\n",
    "import matplotlib.pyplot as plt\n",
    "\n",
    "companies = [\"AAPL\", \"MSFT\", \"GOOG\"]\n",
    "data = [yfinance.Ticker(ticker).history(start='2021-01-01', end='2021-12-31')\n",
    "        for ticker in companies]\n",
    "\n",
    "fig, axs = plt.subplots(len(companies), 1, figsize=(15, 15))\n",
    "\n",
    "# maxIndex = np.amax(data[i].index for i in enumerate(companies))\n",
    "# print(maxIndex)\n",
    "for i, ticker in enumerate(companies):\n",
    "    axs[i].plot(data[i].index, data[i].Close, label=ticker)\n",
    "    axs[i].set_ylabel(\"Price\")\n",
    "    axs[i].set_xlabel(\"Date\")\n",
    "    axs[i].grid()\n",
    "    axs[i].legend()\n",
    "\n",
    "plt.show()"
   ],
   "metadata": {
    "collapsed": false
   }
  },
  {
   "cell_type": "markdown",
   "source": [
    "## 4.3.4 Задание"
   ],
   "metadata": {
    "collapsed": false
   }
  },
  {
   "cell_type": "code",
   "execution_count": null,
   "outputs": [],
   "source": [
    "import sys\n",
    "\n",
    "\n",
    "def sum(x, y):\n",
    "    return x + y\n",
    "\n",
    "\n",
    "def minus(x, y):\n",
    "    return x - y\n",
    "\n",
    "\n",
    "def mul(x, y):\n",
    "    return x * y\n",
    "\n",
    "\n",
    "def divide(x, y):\n",
    "    return x / y\n",
    "\n",
    "\n",
    "def op1(x, y):  #e^(x+y)\n",
    "    return np.power(np.e, x + y)\n",
    "\n",
    "\n",
    "def op2(x, y):  #sin(𝑥 + 𝑦)\n",
    "    return np.sin(x + y)\n",
    "\n",
    "\n",
    "def op3(x, y):  #cos(𝑥 + 𝑦)\n",
    "    return np.cos(x + y)\n",
    "\n",
    "\n",
    "def op4(x, y):  #x^y\n",
    "    return np.power(x, y)\n",
    "\n",
    "\n",
    "operation = input(\n",
    "    \"Enter an operation (+, -, *, /, op1, op2, op3, op4): \")\n",
    "\n",
    "if operation not in ['+', '-', '*', '/', 'op1', 'op2', 'op3', 'op4']:\n",
    "    print(\"Invalid operation\")\n",
    "    raise SystemExit\n",
    "\n",
    "x = float(input(\"Enter x: \"))\n",
    "y = float(input(\"Enter y: \"))\n",
    "\n",
    "chooseOp = {\n",
    "    \"+\": sum(x, y),\n",
    "    \"-\": min(x, y),\n",
    "    \"*\": mul(x, y),\n",
    "    \"/\": divide(x, y),\n",
    "    \"op1\": op1(x, y),\n",
    "    \"op2\": op2(x, y),\n",
    "    \"op3\": op3(x, y),\n",
    "    \"op4\": op4(x, y),\n",
    "}\n",
    "print(\"Result: \", chooseOp[operation])"
   ],
   "metadata": {
    "collapsed": false
   }
  }
 ],
 "metadata": {
  "kernelspec": {
   "display_name": "Python 3",
   "language": "python",
   "name": "python3"
  },
  "language_info": {
   "codemirror_mode": {
    "name": "ipython",
    "version": 2
   },
   "file_extension": ".py",
   "mimetype": "text/x-python",
   "name": "python",
   "nbconvert_exporter": "python",
   "pygments_lexer": "ipython2",
   "version": "2.7.6"
  }
 },
 "nbformat": 4,
 "nbformat_minor": 0
}
