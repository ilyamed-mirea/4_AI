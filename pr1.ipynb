{
 "cells": [
  {
   "cell_type": "markdown",
   "id": "2a4b25ba-0a8e-4fb8-8d31-642c3791893c",
   "metadata": {
    "jp-MarkdownHeadingCollapsed": true,
    "tags": []
   },
   "source": [
    "# Задача 1"
   ]
  },
  {
   "cell_type": "markdown",
   "id": "397cb36a-ae0c-4565-9a37-81a91d26d4db",
   "metadata": {
    "jp-MarkdownHeadingCollapsed": true,
    "tags": []
   },
   "source": [
    "## 1.2 Пример"
   ]
  },
  {
   "cell_type": "code",
   "execution_count": null,
   "outputs": [],
   "source": [
    "x = 3 + 5.2 * 7\n",
    "y = None\n",
    "z = 'a', 5, 12.345, (2, 'b')\n",
    "df = [['Антонова Антонина', 34, 'Ж'], [['Борисов Борис', 26, 'М']]]\n",
    "A = {1, 'title', 2, 'content'}\n",
    "print(x, '|', type(x), '\\n', y, '|', type(y), '\\n', z, '|', type(z), '\\n', df,\n",
    "      '|', type(df), '\\n', A, '|', type(A), '\\n')"
   ],
   "metadata": {
    "collapsed": false,
    "pycharm": {
     "is_executing": true
    }
   }
  },
  {
   "cell_type": "markdown",
   "id": "e45640aa-8828-40e6-a1be-93612ca2aa21",
   "metadata": {
    "jp-MarkdownHeadingCollapsed": true,
    "tags": []
   },
   "source": [
    "## 1.3 Задание"
   ]
  },
  {
   "cell_type": "code",
   "execution_count": 4,
   "id": "b1ebeaed-4440-452c-b001-a31859393b0f",
   "metadata": {},
   "outputs": [
    {
     "name": "stdout",
     "output_type": "stream",
     "text": [
      "True | <class 'bool'> \n",
      " {8, 1, 3, 7} | <class 'set'> \n",
      " {2, 4, 5, 10, 'apple'} | <class 'set'> \n",
      " set() | <class 'set'> \n",
      " ('Антонова Антонина', 34, 'Ж') | <class 'tuple'> \n",
      " type | <class 'str'> \n",
      " [1, 'title', 2, 'content'] | <class 'list'> \n",
      "\n"
     ]
    }
   ],
   "source": [
    "x = 5 >= 2\n",
    "A = {1, 3, 7, 8}\n",
    "B = {2, 4, 5, 10, 'apple'}\n",
    "C = A & B\n",
    "df = 'Антонова Антонина', 34, 'Ж'\n",
    "z = 'type'\n",
    "D = [1, 'title', 2, 'content']\n",
    "print(x, '|', type(x), '\\n', A, '|', type(A), '\\n', B, '|', type(B), '\\n', C,\n",
    "      '|', type(C), '\\n', df, '|', type(df), '\\n', z, '|', type(z), '\\n', D,\n",
    "      '|', type(D), '\\n', )"
   ]
  },
  {
   "cell_type": "markdown",
   "id": "ac1280cb-8ba7-4686-9198-5f119b266fe9",
   "metadata": {},
   "source": [
    "# Задача 2"
   ]
  },
  {
   "cell_type": "markdown",
   "id": "5f5f7407-1db1-499e-a757-b5f9f634f774",
   "metadata": {},
   "source": [
    "## 2.2 Пример"
   ]
  },
  {
   "cell_type": "markdown",
   "id": "ef0fe05e-fadd-495e-b771-da18502ab4f2",
   "metadata": {},
   "source": [
    "## 2.2 Пример"
   ]
  },
  {
   "cell_type": "code",
   "execution_count": 13,
   "id": "d4003072-5093-4360-bf9c-a99a02b1d526",
   "metadata": {},
   "outputs": [
    {
     "name": "stdout",
     "output_type": "stream",
     "text": [
      "x больше 0\n"
     ]
    }
   ],
   "source": [
    "x = 125\n",
    "if x < 0:\n",
    "    print('x меньше 0')\n",
    "elif x == 0:\n",
    "    print('x равен 0')\n",
    "else:\n",
    "    print('x больше 0')"
   ]
  },
  {
   "cell_type": "markdown",
   "id": "9ae07067-ccce-495e-912a-8482a2bdf3b9",
   "metadata": {},
   "source": [
    "## 2.3 Задание"
   ]
  },
  {
   "cell_type": "code",
   "execution_count": 8,
   "id": "9236b7d3-7c8d-45dd-8c57-98ea4f009e29",
   "metadata": {},
   "outputs": [
    {
     "name": "stdout",
     "output_type": "stream",
     "text": [
      "x меньше -5\n"
     ]
    }
   ],
   "source": [
    "x = -125\n",
    "if x < -5:\n",
    "    print('x меньше -5')\n",
    "elif -5 <= x <= 5:\n",
    "    print('x находится от -5 до 5')\n",
    "else:\n",
    "    print('x больше 5')"
   ]
  },
  {
   "cell_type": "markdown",
   "id": "37978ffc-b26c-49c9-8c0e-2df5b287dff1",
   "metadata": {},
   "source": [
    "# Задача 3"
   ]
  },
  {
   "cell_type": "markdown",
   "id": "58f8eee9-b21c-47ca-9ca0-b66ad0ef0180",
   "metadata": {},
   "source": [
    "## 3.2.1 Пример"
   ]
  },
  {
   "cell_type": "code",
   "execution_count": 14,
   "id": "32038826-1f2c-4a4c-bb9a-0731cac0b0c9",
   "metadata": {},
   "outputs": [
    {
     "name": "stdout",
     "output_type": "stream",
     "text": [
      "1\n",
      "4\n",
      "7\n",
      "10\n"
     ]
    }
   ],
   "source": [
    "x = 1\n",
    "while x <= 10:\n",
    "    print(x)\n",
    "    x += 3"
   ]
  },
  {
   "cell_type": "markdown",
   "id": "0c2649ff-f11b-453b-a0b6-d4b1fe2e649d",
   "metadata": {},
   "source": [
    "## 3.2.2 Пример"
   ]
  },
  {
   "cell_type": "code",
   "execution_count": 16,
   "id": "d4a581c3-04e1-479f-a68e-42f708cc3c73",
   "metadata": {},
   "outputs": [
    {
     "name": "stdout",
     "output_type": "stream",
     "text": [
      "KNN\n",
      "decision tree\n",
      "linear model\n"
     ]
    }
   ],
   "source": [
    "models = ['KNN', 'decision tree', 'linear model']\n",
    "for model in models:\n",
    "    print(model)"
   ]
  },
  {
   "cell_type": "markdown",
   "id": "d61d9eb6-6b1f-43d5-981a-6a81c48e2982",
   "metadata": {},
   "source": [
    "## 3.2.3 Пример"
   ]
  },
  {
   "cell_type": "code",
   "execution_count": 17,
   "id": "6cf2d325-a9c8-4b7b-9214-6c288e98560f",
   "metadata": {},
   "outputs": [
    {
     "name": "stdout",
     "output_type": "stream",
     "text": [
      "[1, 8, 15, 22, 29, 36, 43, 50, 57, 64, 71, 78, 85, 92, 99]\n"
     ]
    }
   ],
   "source": [
    "list_int = range(1, 100, 7)\n",
    "print(list(list_int))"
   ]
  },
  {
   "cell_type": "markdown",
   "id": "841934ba-00ca-4028-83a1-be4132bb503f",
   "metadata": {
    "tags": []
   },
   "source": [
    "## 3.2.4 Пример"
   ]
  },
  {
   "cell_type": "code",
   "execution_count": 18,
   "id": "c08f2dce-90da-4d04-b09e-f1ed2afa7c52",
   "metadata": {},
   "outputs": [
    {
     "name": "stdout",
     "output_type": "stream",
     "text": [
      "5\n",
      "30\n",
      "55\n",
      "80\n",
      "105\n"
     ]
    }
   ],
   "source": [
    "for i in range(5, 106, 25):\n",
    "    print(i)"
   ]
  },
  {
   "cell_type": "markdown",
   "id": "51bb3039-3c9b-4cad-b7a8-2c9d07c069b7",
   "metadata": {},
   "source": [
    "## 3.2.5 Пример"
   ]
  },
  {
   "cell_type": "code",
   "execution_count": 20,
   "id": "154fa7ed-d608-4b9e-b743-6d9a4ef76847",
   "metadata": {},
   "outputs": [
    {
     "name": "stdout",
     "output_type": "stream",
     "text": [
      "[2, 4, 6]\n",
      "[9, 8, 7, 6, 5, 4, 3, 2, 1]\n"
     ]
    }
   ],
   "source": [
    "a = [1, 2, 3, 4, 5, 6, 7, 8, 9]\n",
    "b = a[1:7:2]\n",
    "c = a[::-1]\n",
    "print(b)\n",
    "print(c)"
   ]
  },
  {
   "cell_type": "markdown",
   "id": "cefd693a-df2f-4409-a642-6c4eeb83f903",
   "metadata": {},
   "source": [
    "## 3.3.1 Задание"
   ]
  },
  {
   "cell_type": "code",
   "execution_count": 21,
   "id": "e8304bbf-fa94-405a-9d35-ba044e50decc",
   "metadata": {},
   "outputs": [
    {
     "name": "stdout",
     "output_type": "stream",
     "text": [
      "10\n",
      "7\n",
      "4\n",
      "1\n"
     ]
    }
   ],
   "source": [
    "x = 10\n",
    "while x >= 1:\n",
    "    print(x)\n",
    "    x -= 3"
   ]
  },
  {
   "cell_type": "markdown",
   "id": "ee112bec-9694-4a37-bb77-735fee98fe2f",
   "metadata": {},
   "source": [
    "## 3.3.2 Задание"
   ]
  },
  {
   "cell_type": "code",
   "execution_count": 22,
   "id": "3a6a54bd-89c9-43ef-be7b-bf1b3343f776",
   "metadata": {},
   "outputs": [
    {
     "name": "stdout",
     "output_type": "stream",
     "text": [
      "kindness\n",
      "happiness\n",
      "tall\n"
     ]
    }
   ],
   "source": [
    "human = ['kindness', 'happiness', 'tall']\n",
    "for part in human:\n",
    "    print(part)"
   ]
  },
  {
   "cell_type": "markdown",
   "id": "a0931351-33d0-4474-877b-1779cc247ec2",
   "metadata": {},
   "source": [
    "## 3.3.3 Задание"
   ]
  },
  {
   "cell_type": "code",
   "execution_count": 24,
   "id": "156ddc45-cc1b-44eb-b541-e4eca1b48d9f",
   "metadata": {},
   "outputs": [
    {
     "name": "stdout",
     "output_type": "stream",
     "text": [
      "[2, 3, 4, 5, 6, 7, 8, 9, 10, 11, 12, 13, 14, 15]\n"
     ]
    }
   ],
   "source": [
    "list_int = range(2, 16, 1)\n",
    "print(list(list_int))"
   ]
  },
  {
   "cell_type": "markdown",
   "id": "0c34093e-9c07-4365-97d2-912f906a83c0",
   "metadata": {},
   "source": [
    "## 3.3.4 Задание"
   ]
  },
  {
   "cell_type": "code",
   "execution_count": 28,
   "id": "786fe7e3-093a-4f5b-9732-9b4a15ed230a",
   "metadata": {},
   "outputs": [
    {
     "name": "stdout",
     "output_type": "stream",
     "text": [
      "105\n",
      "80\n",
      "55\n",
      "30\n",
      "5\n"
     ]
    }
   ],
   "source": [
    "for i in range(105, 4, -25):\n",
    "    print(i)"
   ]
  },
  {
   "cell_type": "markdown",
   "id": "4dca5dcc-e141-4cfe-84b7-36dd3bea4516",
   "metadata": {},
   "source": [
    "## 3.3.5 Задание"
   ]
  },
  {
   "cell_type": "code",
   "execution_count": 41,
   "id": "3cf22c1a-5d58-4edf-982e-d4ced9b0925f",
   "metadata": {},
   "outputs": [
    {
     "name": "stdout",
     "output_type": "stream",
     "text": [
      "[8, 1, 6, 3, 4, 5, 2, 7, 0, 9]\n"
     ]
    }
   ],
   "source": [
    "a = [0, 1, 2, 3, 4, 5, 6, 7, 8, 9]\n",
    "b = a[-2::-2]\n",
    "c = a[1::2]\n",
    "res = []\n",
    "for i in range(0, len(b)):\n",
    "    res.append(b[i])\n",
    "    res.append(c[i])\n",
    "print(res)"
   ]
  },
  {
   "cell_type": "markdown",
   "id": "7d0bf5ae-6fa9-4600-891c-1041abec1c51",
   "metadata": {},
   "source": [
    "# Задача 4"
   ]
  },
  {
   "cell_type": "markdown",
   "id": "4aeaaaa4-76af-40c4-bc31-6ea854e5fad3",
   "metadata": {},
   "source": [
    "## 4.2.1 Пример"
   ]
  },
  {
   "cell_type": "code",
   "execution_count": 36,
   "id": "491d0206-2d73-4ea5-8a53-35cdc0231e11",
   "metadata": {},
   "outputs": [
    {
     "name": "stdout",
     "output_type": "stream",
     "text": [
      "0.41078129050290885\n"
     ]
    }
   ],
   "source": [
    "import math as m\n",
    "\n",
    "print(m.sin(m.e))"
   ]
  },
  {
   "cell_type": "markdown",
   "id": "4eadf200-1839-49c4-b1eb-3a4ac94850ca",
   "metadata": {},
   "source": [
    "## 4.2.2 Пример"
   ]
  },
  {
   "cell_type": "code",
   "execution_count": 42,
   "id": "0933a293-1d7a-4044-ac86-9bd2a76db6b3",
   "metadata": {},
   "outputs": [
    {
     "name": "stderr",
     "output_type": "stream",
     "text": [
      "Matplotlib is building the font cache; this may take a moment.\n"
     ]
    },
    {
     "name": "stdout",
     "output_type": "stream",
     "text": [
      "7.350792907748662e+01\n"
     ]
    },
    {
     "data": {
      "image/png": "[encoded data removed]",
      "text/plain": [
       "<Figure size 432x288 with 1 Axes>"
      ]
     },
     "metadata": {
      "needs_background": "light"
     },
     "output_type": "display_data"
    }
   ],
   "source": [
    "import numpy as np\n",
    "import matplotlib.pyplot as plt\n",
    "from scipy.integrate import simps\n",
    "from numpy import trapz\n",
    "\n",
    "x = np.arange(0.0, 10, 0.1)\n",
    "y = np.abs(np.sin(x * np.exp(np.cos(x))))\n",
    "plt.grid()\n",
    "plt.plot(x, y, c=\"r\")\n",
    "plt.fill_between(x, y)\n",
    "area = trapz(y)\n",
    "print(area)"
   ]
  },
  {
   "cell_type": "markdown",
   "id": "c7d67145-ea47-428a-a08c-b9c31c88db3a",
   "metadata": {
    "tags": []
   },
   "source": [
    "## 4.2.3 Пример"
   ]
  },
  {
   "cell_type": "code",
   "execution_count": 44,
   "id": "c5d885ff-b352-4c92-b605-c7d0ac30c440",
   "metadata": {},
   "outputs": [
    {
     "data": {
      "image/png": "[encoded data removed]",
      "text/plain": [
       "<Figure size 720x504 with 1 Axes>"
      ]
     },
     "metadata": {},
     "output_type": "display_data"
    },
    {
     "data": {
      "text/plain": [
       "<matplotlib.collections.PathCollection at 0x7fb08c30b0a0>"
      ]
     },
     "execution_count": 44,
     "metadata": {},
     "output_type": "execute_result"
    },
    {
     "data": {
      "image/png": "[encoded data removed]",
      "text/plain": [
       "<Figure size 432x288 with 1 Axes>"
      ]
     },
     "metadata": {
      "needs_background": "light"
     },
     "output_type": "display_data"
    }
   ],
   "source": [
    "from matplotlib import pyplot as plt\n",
    "import numpy as np\n",
    "\n",
    "marks = ['Неуд', 'Удовл', 'Хор', 'Отл']\n",
    "\n",
    "data = [3, 7, 8, 4]\n",
    "fig = plt.figure(figsize=(10, 7))\n",
    "plt.pie(data, labels=marks)\n",
    "plt.show()\n",
    "plt.grid()\n",
    "plt.scatter(marks, data)"
   ]
  },
  {
   "cell_type": "markdown",
   "id": "941a3039-2b26-47cf-9b9c-15a395e009f3",
   "metadata": {},
   "source": [
    "## 4.3.1 Задание"
   ]
  },
  {
   "cell_type": "code",
   "execution_count": null,
   "id": "3265b344-ec3b-4f76-b52b-b181bc1df2b2",
   "metadata": {
    "pycharm": {
     "is_executing": true
    }
   },
   "outputs": [],
   "source": [
    "import math as m\n",
    "import random\n",
    "import random\n",
    "\n",
    "arr = [random.random() for _ in range(10)]\n",
    "for i in range(0, 10):\n",
    "    print(x)"
   ]
  },
  {
   "cell_type": "code",
   "execution_count": null,
   "outputs": [],
   "source": [],
   "metadata": {
    "collapsed": false
   }
  }
 ],
 "metadata": {
  "kernelspec": {
   "display_name": "anaconda-2022.05-py39",
   "language": "python",
   "name": "conda-env-anaconda-2022.05-py39-py"
  },
  "language_info": {
   "codemirror_mode": {
    "name": "ipython",
    "version": 3
   },
   "file_extension": ".py",
   "mimetype": "text/x-python",
   "name": "python",
   "nbconvert_exporter": "python",
   "pygments_lexer": "ipython3",
   "version": "3.9.12"
  }
 },
 "nbformat": 4,
 "nbformat_minor": 5
}
