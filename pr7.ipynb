{
 "cells": [
  {
   "attachments": {},
   "cell_type": "markdown",
   "metadata": {},
   "source": [
    "# Рабочая тетрадь № 7"
   ]
  },
  {
   "attachments": {},
   "cell_type": "markdown",
   "metadata": {},
   "source": [
    "### 1.1.1 Пример\n",
    "Рассмотрим программу обучения персептрона на языке Python. Сначала\n",
    "рассмотрим основной класс персептрона, который умеет учиться по\n",
    "тестовым данным."
   ]
  },
  {
   "cell_type": "code",
   "execution_count": 10,
   "metadata": {},
   "outputs": [
    {
     "name": "stdout",
     "output_type": "stream",
     "text": [
      "[0.1, -0.1]\n",
      "-1\n",
      "1\n",
      "1\n",
      "-1\n"
     ]
    }
   ],
   "source": [
    "# Класс, который реализует персептрон и его обучение\n",
    "class Perceptron:\n",
    "    def __init__(self, N):\n",
    "        # Создать нулевые веса\n",
    "        self.w = list()\n",
    "        for i in range(N):\n",
    "            self.w.append(0)\n",
    "    \n",
    "    # Метод для вычисления значения персептрона\n",
    "    def calc(self, x):\n",
    "        res = 0\n",
    "        for i in range(len(self.w)):\n",
    "            res = res + self.w[i] * x[i]\n",
    "        return res\n",
    "    \n",
    "    # Пороговая функция активации персептрона\n",
    "    def sign(self, x):\n",
    "        if self.calc(x) > 0:\n",
    "            return 1\n",
    "        else:\n",
    "            return -1\n",
    "        \n",
    "    # Обучение на одном примере\n",
    "    def learn(self, la, x, y):\n",
    "        # Обучаем только в том случае, когда результат неверный\n",
    "        if y * self.calc(x) <= 0:\n",
    "            for i in range(len(self.w)):\n",
    "                self.w[i] = self.w[i] + la * y * x[i]\n",
    "    \n",
    "    # Обучкение по всем данным T - кортеж примеров\n",
    "    def learning(self, la, T):\n",
    "        # Цикл обучения\n",
    "        for n in range(100):\n",
    "            # Обучение по всему набору примеров\n",
    "            for t in T:\n",
    "                self.learn(la, t[0], t[1])\n",
    "                \n",
    "perceptron = Perceptron(2)\n",
    "la = 0.1 # константа обучения\n",
    "# Создаем примеры\n",
    "T = list()\n",
    "T.append([[2, 1], 1])\n",
    "T.append([[3, 2], 1])\n",
    "T.append([[4, 1], 1])\n",
    "T.append([[1, 2], -1])\n",
    "T.append([[2, 3], -1])\n",
    "T.append([[5, 7], -1])\n",
    "perceptron.learning(la, T) # обучение персептрона\n",
    "print(perceptron.w) # печатаем веса\n",
    "# Проверим работу на тестовых примерах\n",
    "print(perceptron.sign([1.5, 2]))\n",
    "print(perceptron.sign([3, 1.5]))\n",
    "print(perceptron.sign([5, 1]))\n",
    "print(perceptron.sign([5, 10]))\n",
    "    "
   ]
  },
  {
   "cell_type": "markdown",
   "metadata": {},
   "source": [
    "### 1.1.2 Пример\n",
    "Для написания кода нейрона будем использовать библиотеку Pytnon\n",
    "— NumPy:\n"
   ]
  },
  {
   "cell_type": "code",
   "execution_count": 11,
   "metadata": {},
   "outputs": [
    {
     "name": "stdout",
     "output_type": "stream",
     "text": [
      "0.9990889488055994\n"
     ]
    }
   ],
   "source": [
    "import numpy as np\n",
    "def sigmoid(x):\n",
    "    # Функция активации: f(1) = 1 / (1 + e^(-x))\n",
    "    return 1 / (1 + np.exp(-x))\n",
    "\n",
    "class Neuron:\n",
    "    def __init__(self, weights, bias):\n",
    "        self.weights = weights\n",
    "        self.bias = bias\n",
    "    \n",
    "    def feedforward(self, inputs):\n",
    "        total = np.dot(self.weights, inputs) + self.bias\n",
    "        return sigmoid(total)\n",
    "    \n",
    "weights = np.array([0, 1]) # w1 = 0, w2 = 1\n",
    "bias = 4                   # c = 4\n",
    "n = Neuron(weights, bias)\n",
    "x = np.array([2, 3])       # x = 2, y = 3\n",
    "print(n.feedforward(x))    # 0.999"
   ]
  },
  {
   "cell_type": "code",
   "execution_count": 12,
   "metadata": {},
   "outputs": [
    {
     "name": "stdout",
     "output_type": "stream",
     "text": [
      "0.7216325609518421\n"
     ]
    }
   ],
   "source": [
    "import numpy as np\n",
    "\n",
    "class OurNeuralNetwork:\n",
    "    '''\n",
    "        Данные нейросети:\n",
    "            - два входа\n",
    "            - два нейрона в скрытых слоях (h1, h2)\n",
    "            - выход (o1)\n",
    "        Нейроны имеют идентичные веса и пороги:\n",
    "            - w = [0, 1]\n",
    "            - b = 0\n",
    "    '''\n",
    "    \n",
    "    def __init__(self):\n",
    "        weights = np.array([0, 1])\n",
    "        bias = 0\n",
    "        # Класс Neuron из прошлого раздела\n",
    "        self.h1 = Neuron(weights, bias)\n",
    "        self.h2 = Neuron(weights, bias)\n",
    "        self.o1 = Neuron(weights, bias)\n",
    "    \n",
    "    def feedforward(self, x):\n",
    "        out_h1 = self.h1.feedforward(x)\n",
    "        out_h2 = self.h2.feedforward(x)\n",
    "        # Выход для o1 - это выходы h1 и h2\n",
    "        out_o1 = self.o1.feedforward(np.array([out_h1, out_h2]))\n",
    "        return out_o1\n",
    "        \n",
    "network = OurNeuralNetwork()\n",
    "x = np.array([2, 3])\n",
    "print(network.feedforward(x)) "
   ]
  },
  {
   "attachments": {},
   "cell_type": "markdown",
   "metadata": {},
   "source": [
    "### 1.1.2 Задание\n",
    "Реализовать классы нейросетей по аналогии с классом OurNeuralNetwork. \\\n",
    "Данные нейросети: \n"
   ]
  },
  {
   "attachments": {},
   "cell_type": "markdown",
   "metadata": {},
   "source": [
    "− три входа (𝑥1, 𝑥2, 𝑥 3); \\\n",
    "− три нейрона в скрытых слоях (ℎ1, ℎ2, ℎ3); \\\n",
    "− выход (𝑜1). \\\n",
    "Нейроны имеют идентичные веса и пороги: \\\n",
    "− 𝑤 = [0.5, 0.5, 0.5] \\\n",
    "− 𝑏 = 0 "
   ]
  },
  {
   "cell_type": "code",
   "execution_count": 13,
   "metadata": {},
   "outputs": [
    {
     "name": "stdout",
     "output_type": "stream",
     "text": [
      "0.679178699175393\n"
     ]
    }
   ],
   "source": [
    "import numpy as np\n",
    "\n",
    "class OurNeuralNetwork:\n",
    "   \n",
    "    def __init__(self):\n",
    "        weights = [0.5, 0.5, 0.5]\n",
    "        bias = 0\n",
    "        # Класс Neuron из прошлого раздела\n",
    "        self.h1 = Neuron(weights, bias)\n",
    "        self.h2 = Neuron(weights, bias)\n",
    "        self.h3 = Neuron(weights, bias)\n",
    "        self.o1 = Neuron(weights, bias)\n",
    "    \n",
    "    def feedforward(self, x):\n",
    "        out_h1 = self.h1.feedforward(x)\n",
    "        out_h2 = self.h2.feedforward(x)\n",
    "        out_h3 = self.h3.feedforward(x)\n",
    "        # Выход для o1 - это выходы h1 и h2\n",
    "        out_o1 = self.o1.feedforward(np.array([out_h1, out_h2, out_h3]))\n",
    "        return out_o1\n",
    "        \n",
    "network = OurNeuralNetwork()\n",
    "x = np.array([0, 0, 0])\n",
    "print(network.feedforward(x)) "
   ]
  },
  {
   "attachments": {},
   "cell_type": "markdown",
   "metadata": {},
   "source": [
    "Данные нейросети: \\\n",
    "− два входа (𝑥1, 𝑥2); \\\n",
    "− два нейрона в скрытых слоях (ℎ1, ℎ2); \\\n",
    "− два выхода (𝑜1, 𝑜2). \\\n",
    "Нейроны имеют идентичные веса и пороги: \\\n",
    "− 𝑤 = [1, 0]; \\\n",
    "− 𝑏 = 1."
   ]
  },
  {
   "cell_type": "code",
   "execution_count": 14,
   "metadata": {},
   "outputs": [
    {
     "name": "stdout",
     "output_type": "stream",
     "text": [
      "(0.8495477739862124, 0.8495477739862124)\n"
     ]
    }
   ],
   "source": [
    "import numpy as np\n",
    "\n",
    "class OurNeuralNetwork:\n",
    "   \n",
    "    def __init__(self):\n",
    "        weights = [1,0]\n",
    "        bias = 1\n",
    "        # Класс Neuron из прошлого раздела\n",
    "        self.h1 = Neuron(weights, bias)\n",
    "        self.h2 = Neuron(weights, bias)\n",
    "        self.o1 = Neuron(weights, bias)\n",
    "        self.o2 = Neuron(weights, bias)\n",
    "    \n",
    "    def feedforward(self, x):\n",
    "        out_h1 = self.h1.feedforward(x)\n",
    "        out_h2 = self.h2.feedforward(x)\n",
    "        # Выход для o1 - это выходы h1 и h2\n",
    "        out_o1 = self.o1.feedforward(np.array([out_h1, out_h2]))\n",
    "        out_o2 = self.o2.feedforward(np.array([out_h1, out_h2]))\n",
    "        return out_o1, out_o2\n",
    "        \n",
    "network = OurNeuralNetwork()\n",
    "x = np.array([0, 0])\n",
    "print(network.feedforward(x)) "
   ]
  },
  {
   "attachments": {
    "image.png": {
     "image/png": "[encoded data removed]"
    }
   },
   "cell_type": "markdown",
   "metadata": {},
   "source": [
    "### 1.1.3 Задание\n",
    "Реализуйте классы нейронных сетей с использованием других функций\n",
    "активации.\\"
   ]
  },
  {
   "attachments": {},
   "cell_type": "markdown",
   "metadata": {},
   "source": [
    "Функция сигмоиды"
   ]
  },
  {
   "cell_type": "code",
   "execution_count": 15,
   "metadata": {},
   "outputs": [],
   "source": [
    "import numpy as np\n",
    "\n",
    "def sigmoid(x):\n",
    "    return 1 / (1 + np.exp(-x))\n",
    "\n",
    "class Neuron:\n",
    "    def __init__(self, weights, bias):\n",
    "        self.weights = weights\n",
    "        self.bias = bias\n",
    "    \n",
    "    def feedforward(self, inputs):\n",
    "        total = np.dot(self.weights, inputs) + self.bias\n",
    "        return sigmoid(total)\n",
    "    \n",
    "class OurNeuralNetwork:\n",
    "\n",
    "    def __init__(self):\n",
    "        weights = [1,0]\n",
    "        bias = 1\n",
    "        # Класс Neuron из прошлого раздела\n",
    "        self.h1 = Neuron(weights, bias)\n",
    "        self.h2 = Neuron(weights, bias)\n",
    "        self.o1 = Neuron(weights, bias)\n",
    "        self.o2 = Neuron(weights, bias)\n",
    "\n",
    "    def feedforward(self, x):\n",
    "        out_h1 = self.h1.feedforward(x)\n",
    "        out_h2 = self.h2.feedforward(x)\n",
    "        # Выход для o1 - это выходы h1 и h2\n",
    "        out_o1 = self.o1.feedforward(np.array([out_h1, out_h2]))\n",
    "        out_o2 = self.o2.feedforward(np.array([out_h1, out_h2]))\n",
    "        return out_o1, out_o2"
   ]
  },
  {
   "attachments": {},
   "cell_type": "markdown",
   "metadata": {},
   "source": [
    "Гиперболический тангенс"
   ]
  },
  {
   "cell_type": "code",
   "execution_count": 16,
   "metadata": {},
   "outputs": [],
   "source": [
    "from math import tanh as th\n",
    "import numpy as np\n",
    "\n",
    "def tanh(x):\n",
    "    return th(x)\n",
    "\n",
    "class Neuron:\n",
    "    def __init__(self, weights, bias):\n",
    "        self.weights = weights\n",
    "        self.bias = bias\n",
    "    \n",
    "    def feedforward(self, inputs):\n",
    "        total = np.dot(self.weights, inputs) + self.bias\n",
    "        return tanh(total)\n",
    "    \n",
    "class OurNeuralNetwork:\n",
    "\n",
    "    def __init__(self):\n",
    "        weights = [1,0]\n",
    "        bias = 1\n",
    "        # Класс Neuron из прошлого раздела\n",
    "        self.h1 = Neuron(weights, bias)\n",
    "        self.h2 = Neuron(weights, bias)\n",
    "        self.o1 = Neuron(weights, bias)\n",
    "        self.o2 = Neuron(weights, bias)\n",
    "\n",
    "    def feedforward(self, x):\n",
    "        out_h1 = self.h1.feedforward(x)\n",
    "        out_h2 = self.h2.feedforward(x)\n",
    "        # Выход для o1 - это выходы h1 и h2\n",
    "        out_o1 = self.o1.feedforward(np.array([out_h1, out_h2]))\n",
    "        out_o2 = self.o2.feedforward(np.array([out_h1, out_h2]))\n",
    "        return out_o1, out_o2"
   ]
  },
  {
   "cell_type": "code",
   "execution_count": 17,
   "metadata": {},
   "outputs": [],
   "source": [
    "import numpy as np\n",
    "\n",
    "def fMax(x):\n",
    "    return max(0, x)\n",
    "\n",
    "class Neuron:\n",
    "    def __init__(self, weights, bias):\n",
    "        self.weights = weights\n",
    "        self.bias = bias\n",
    "    \n",
    "    def feedforward(self, inputs):\n",
    "        total = np.dot(self.weights, inputs) + self.bias\n",
    "        return fMax(total)\n",
    "    \n",
    "class OurNeuralNetwork:\n",
    "\n",
    "    def __init__(self):\n",
    "        weights = [1,0]\n",
    "        bias = 1\n",
    "        # Класс Neuron из прошлого раздела\n",
    "        self.h1 = Neuron(weights, bias)\n",
    "        self.h2 = Neuron(weights, bias)\n",
    "        self.o1 = Neuron(weights, bias)\n",
    "        self.o2 = Neuron(weights, bias)\n",
    "\n",
    "    def feedforward(self, x):\n",
    "        out_h1 = self.h1.feedforward(x)\n",
    "        out_h2 = self.h2.feedforward(x)\n",
    "        # Выход для o1 - это выходы h1 и h2\n",
    "        out_o1 = self.o1.feedforward(np.array([out_h1, out_h2]))\n",
    "        out_o2 = self.o2.feedforward(np.array([out_h1, out_h2]))\n",
    "        return out_o1, out_o2"
   ]
  },
  {
   "attachments": {},
   "cell_type": "markdown",
   "metadata": {},
   "source": [
    "### 1.2.1 Задание\n",
    "Используйте классы MLPClassified и MLPRegressor для классификации и\n",
    "регрессии произвольных данных из интернета. Проведите анализ\n",
    "атрибуты, полученных моделей.\n",
    "Для классификации можете взять набор данных Ирисов: \\\n",
    "https://gist.githubusercontent.com/netj/8836201/raw/6f9306ad21398ea43cba4f77d537619d0e07d5ae3/iris.csv\n",
    "а для регрессии датасет зависимости заработной платы от опыта работы: \\\n",
    "https://raw.githubusercontent.com/AnnaShestova/salary-years-simple-linearregression/master/Salary_Data.csv"
   ]
  },
  {
   "cell_type": "code",
   "execution_count": 18,
   "metadata": {},
   "outputs": [
    {
     "name": "stderr",
     "output_type": "stream",
     "text": [
      "C:\\Users\\ilyaMedv\\.conda\\envs\\4_AI\\lib\\site-packages\\sklearn\\neural_network\\_multilayer_perceptron.py:686: ConvergenceWarning: Stochastic Optimizer: Maximum iterations (200) reached and the optimization hasn't converged yet.\n",
      "  warnings.warn(\n"
     ]
    },
    {
     "name": "stdout",
     "output_type": "stream",
     "text": [
      "MLPClassifier:\n",
      "['Versicolor' 'Virginica' 'Virginica' 'Versicolor' 'Setosa' 'Virginica'\n",
      " 'Versicolor' 'Setosa' 'Setosa' 'Versicolor']\n",
      "['Versicolor' 'Virginica' 'Virginica' 'Versicolor' 'Setosa' 'Virginica'\n",
      " 'Versicolor' 'Setosa' 'Setosa' 'Versicolor']\n",
      "Test Accuracy : 0.967\n",
      "Training Accuracy : 0.975\n",
      "Loss :  0.3012607394074939\n",
      "Number of Coefs :  2\n",
      "Number of Intercepts :  2\n",
      "Number of Iterations for Witch Estimator Ran :  200\n",
      "Number of Output Layers Activation Function :  softmax\n",
      "\n",
      "\n",
      "\n",
      "MLPRegressor:\n",
      "[20.26234628 55.2781752  18.82135812 50.48274487 20.26234628 50.9622879 ]\n",
      "[ 54445. 121872.  56642. 116969.  64445. 112635.]\n",
      "Test R^2 Score : -8.796\n",
      "Training R^2 Score : -8.261\n",
      "Loss :  2988058032.1601596\n",
      "Number of Coefs :  2\n",
      "Number of Intercepts :  2\n",
      "Number of Iterations for Witch Estimator Ran :  200\n",
      "Number of Output Layers Activation Function :  identity\n"
     ]
    },
    {
     "name": "stderr",
     "output_type": "stream",
     "text": [
      "C:\\Users\\ilyaMedv\\.conda\\envs\\4_AI\\lib\\site-packages\\sklearn\\neural_network\\_multilayer_perceptron.py:686: ConvergenceWarning: Stochastic Optimizer: Maximum iterations (200) reached and the optimization hasn't converged yet.\n",
      "  warnings.warn(\n"
     ]
    }
   ],
   "source": [
    "# Загрука библиотек\n",
    "import pandas as pd\n",
    "from sklearn.neural_network import MLPClassifier, MLPRegressor\n",
    "\n",
    "from sklearn.model_selection import train_test_split\n",
    "\n",
    "# Загрузка данных\n",
    "url = 'https://gist.githubusercontent.com/netj/8836201/raw/6f9306ad21398ea43cba4f7d537619d0e07d5ae3/iris.csv'\n",
    "dataframe = pd.read_csv(url)\n",
    "\n",
    "# Формируем  из двух списков\n",
    "x = dataframe.iloc[:, :-1].values\n",
    "y = dataframe.iloc[:, -1].values\n",
    "\n",
    "\n",
    "# Разделим данные на обучающую и тестовую выборки\n",
    "x_train, x_test, y_train, y_test = train_test_split(x, y, test_size=0.2, random_state=123)\n",
    "\n",
    "# Обучение модели\n",
    "mlp_classifier = MLPClassifier(random_state=123)\n",
    "mlp_classifier.fit(x_train, y_train)\n",
    "\n",
    "# Формирование прогноза\n",
    "y_preds = mlp_classifier.predict(x_test)\n",
    "\n",
    "# Оценка точности моделей классификации\n",
    "print('MLPClassifier:')\n",
    "print(y_preds[:10])\n",
    "print(y_test[:10])\n",
    "print('Test Accuracy : %.3f' %mlp_classifier.score(x_test, y_test))\n",
    "print('Training Accuracy : %.3f' %mlp_classifier.score(x_train, y_train))\n",
    "print('Loss : ', mlp_classifier.loss_)\n",
    "print('Number of Coefs : ', len(mlp_classifier.coefs_))\n",
    "print('Number of Intercepts : ', len(mlp_classifier.intercepts_))\n",
    "print('Number of Iterations for Witch Estimator Ran : ', mlp_classifier.n_iter_)\n",
    "print('Number of Output Layers Activation Function : ', mlp_classifier.out_activation_)\n",
    "\n",
    "\n",
    "# Загрузка данных\n",
    "url = 'https://raw.githubusercontent.com/AnnaShestova/salary-years-simple-linear-regression/master/Salary_Data.csv'\n",
    "dataframe = pd.read_csv(url)\n",
    "\n",
    "# Формируем  из двух списков\n",
    "x = dataframe.iloc[:, :-1].values\n",
    "y = dataframe.iloc[:, -1].values\n",
    "\n",
    "# Разделим данные на обучающую и тестовую выборки\n",
    "x_train, x_test, y_train, y_test = train_test_split(x, y, test_size=0.2, random_state=123)\n",
    "\n",
    "# Обучение модели\n",
    "mlp_regressor = MLPRegressor(random_state=123)\n",
    "mlp_regressor.fit(x_train, y_train)\n",
    "\n",
    "# Формирование прогноза\n",
    "y_preds = mlp_regressor.predict(x_test)\n",
    "\n",
    "print('\\n\\n\\nMLPRegressor:')\n",
    "print(y_preds[:10])\n",
    "print(y_test[:10])\n",
    "print('Test R^2 Score : %.3f' %mlp_regressor.score(x_test, y_test))\n",
    "print('Training R^2 Score : %.3f' %mlp_regressor.score(x_train, y_train))\n",
    "print('Loss : ', mlp_regressor.loss_)\n",
    "print('Number of Coefs : ', len(mlp_regressor.coefs_))\n",
    "print('Number of Intercepts : ', len(mlp_regressor.intercepts_))\n",
    "print('Number of Iterations for Witch Estimator Ran : ', mlp_regressor.n_iter_)\n",
    "print('Number of Output Layers Activation Function : ', mlp_regressor.out_activation_)\n"
   ]
  }
 ],
 "metadata": {
  "kernelspec": {
   "display_name": "Python 3",
   "language": "python",
   "name": "python3"
  },
  "language_info": {
   "codemirror_mode": {
    "name": "ipython",
    "version": 3
   },
   "file_extension": ".py",
   "mimetype": "text/x-python",
   "name": "python",
   "nbconvert_exporter": "python",
   "pygments_lexer": "ipython3",
   "version": "3.11.0"
  },
  "orig_nbformat": 4
 },
 "nbformat": 4,
 "nbformat_minor": 2
}
